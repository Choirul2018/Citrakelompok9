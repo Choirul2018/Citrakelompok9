{
 "cells": [
  {
   "cell_type": "markdown",
   "metadata": {},
   "source": [
    "# Manual Prewitt Edge Detection with OpenCV\n",
    "This notebook demonstrates how to manually apply Prewitt operator to detect edges in an image using OpenCV."
   ]
  },
  {
   "cell_type": "code",
   "execution_count": null,
   "metadata": {},
   "outputs": [],
   "source": [
    "import cv2\n",
    "import numpy as np\n",
    "import matplotlib.pyplot as plt"
   ]
  },
  {
   "cell_type": "code",
   "execution_count": null,
   "metadata": {},
   "outputs": [
    {
     "ename": "NameError",
     "evalue": "name 'plt' is not defined",
     "output_type": "error",
     "traceback": [
      "\u001b[31m---------------------------------------------------------------------------\u001b[39m",
      "\u001b[31mNameError\u001b[39m                                 Traceback (most recent call last)",
      "\u001b[36mCell\u001b[39m\u001b[36m \u001b[39m\u001b[32mIn[1]\u001b[39m\u001b[32m, line 1\u001b[39m\n\u001b[32m----> \u001b[39m\u001b[32m1\u001b[39m \u001b[43mplt\u001b[49m.imshow(img)\n\u001b[32m      2\u001b[39m plt.axis(\u001b[33m'\u001b[39m\u001b[33moff\u001b[39m\u001b[33m'\u001b[39m)\n\u001b[32m      3\u001b[39m plt.title(\u001b[33m'\u001b[39m\u001b[33mGambar Asli\u001b[39m\u001b[33m'\u001b[39m)\n",
      "\u001b[31mNameError\u001b[39m: name 'plt' is not defined"
     ]
    }
   ],
   "source": [
    "\n",
    "img = cv2.imread('IMG.jpg', cv2.IMREAD_GRAYSCALE)\n",
    "\n",
    "# Resize\n",
    "img = cv2.resize(img, (4, 4))\n",
    "\n",
    "print(\"Grayscale Image:\\n\", img)"
   ]
  },
  {
   "cell_type": "code",
   "execution_count": null,
   "metadata": {},
   "outputs": [],
   "source": [
    "\n",
    "kernel_prewitt_x = np.array([\n",
    "    [-1, 0, 1],\n",
    "    [-1, 0, 1],\n",
    "    [-1, 0, 1]\n",
    "], dtype=np.float32)\n",
    "\n",
    "kernel_prewitt_y = np.array([\n",
    "    [-1, -1, -1],\n",
    "    [ 0,  0,  0],\n",
    "    [ 1,  1,  1]\n",
    "], dtype=np.float32)"
   ]
  },
  {
   "cell_type": "code",
   "execution_count": null,
   "metadata": {},
   "outputs": [],
   "source": [
    "\n",
    "prewitt_x = cv2.filter2D(img, cv2.CV_32F, kernel_prewitt_x)\n",
    "prewitt_y = cv2.filter2D(img, cv2.CV_32F, kernel_prewitt_y)"
   ]
  },
  {
   "cell_type": "code",
   "execution_count": null,
   "metadata": {},
   "outputs": [],
   "source": [
    "\n",
    "magnitude = np.sqrt(np.square(prewitt_x) + np.square(prewitt_y))\n",
    "magnitude = np.clip(magnitude, 0, 255)"
   ]
  },
  {
   "cell_type": "code",
   "execution_count": null,
   "metadata": {},
   "outputs": [
    {
     "name": "stdout",
     "output_type": "stream",
     "text": [
      "\n",
      "Hasil Prewitt X:\n",
      " [[   0.  -13. -121.    0.]\n",
      " [   0.    5. -214.    0.]\n",
      " [   0.    7. -206.    0.]\n",
      " [   0.   25. -299.    0.]]\n",
      "\n",
      "Hasil Prewitt Y:\n",
      " [[   0.    0.    0.    0.]\n",
      " [  -1.    8. -119. -110.]\n",
      " [ 258.  253.  311.  306.]\n",
      " [   0.    0.    0.    0.]]\n",
      "\n",
      "Magnitudo Gradien:\n",
      " [[  0  13 121   0]\n",
      " [  1   9 244 110]\n",
      " [255 253 255 255]\n",
      " [  0  25 255   0]]\n"
     ]
    }
   ],
   "source": [
    "\n",
    "np.set_printoptions(precision=2, suppress=True) \n",
    "\n",
    "print(\"\\nHasil Prewitt X:\\n\", prewitt_x)\n",
    "print(\"\\nHasil Prewitt Y:\\n\", prewitt_y)\n",
    "print(\"\\nMagnitudo Gradien:\\n\", magnitude.astype(np.uint8)) "
   ]
  },
  {
   "cell_type": "code",
   "execution_count": null,
   "metadata": {},
   "outputs": [
    {
     "data": {
      "image/png": "[encoded data removed]",
      "text/plain": [
       "<Figure size 1200x400 with 3 Axes>"
      ]
     },
     "metadata": {},
     "output_type": "display_data"
    }
   ],
   "source": [
    "# 7. Visualisasi\n",
    "plt.figure(figsize=(12, 4))\n",
    "\n",
    "plt.subplot(1, 3, 1)\n",
    "plt.title(\"Prewitt X\")\n",
    "plt.imshow(prewitt_x, cmap='gray')\n",
    "plt.axis('off')\n",
    "\n",
    "plt.subplot(1, 3, 2)\n",
    "plt.title(\"Prewitt Y\")\n",
    "plt.imshow(prewitt_y, cmap='gray')\n",
    "plt.axis('off')\n",
    "\n",
    "plt.subplot(1, 3, 3)\n",
    "plt.title(\"Magnitude\")\n",
    "plt.imshow(magnitude, cmap='gray')\n",
    "plt.axis('off')\n",
    "\n",
    "plt.tight_layout()\n",
    "plt.show()"
   ]
  }
 ],
 "metadata": {
  "kernelspec": {
   "display_name": "base",
   "language": "python",
   "name": "python3"
  },
  "language_info": {
   "codemirror_mode": {
    "name": "ipython",
    "version": 3
   },
   "file_extension": ".py",
   "mimetype": "text/x-python",
   "name": "python",
   "nbconvert_exporter": "python",
   "pygments_lexer": "ipython3",
   "version": "3.12.7"
  }
 },
 "nbformat": 4,
 "nbformat_minor": 2
}
